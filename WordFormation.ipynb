{
 "cells": [
  {
   "cell_type": "code",
   "execution_count": 1,
   "metadata": {
    "collapsed": false
   },
   "outputs": [
    {
     "name": "stdout",
     "output_type": "stream",
     "text": [
      "/Users/mlm2/Work/Expts/StressMem\n"
     ]
    }
   ],
   "source": [
    "%cd ~/Work/Expts/StressMem\n",
    "import numpy as np\n",
    "import pandas as pd\n",
    "import scipy as sp\n",
    "from scipy.stats import ttest_ind\n",
    "from numpy import random\n",
    "from matplotlib import pyplot as plt\n",
    "import seaborn as sns\n",
    "%matplotlib inline"
   ]
  },
  {
   "cell_type": "code",
   "execution_count": 30,
   "metadata": {
    "collapsed": true
   },
   "outputs": [],
   "source": [
    "uname = !whoami\n",
    "uname = uname[0]\n",
    "path2words = '/Users/' + uname + '/Work/Expts/StressMem/'"
   ]
  },
  {
   "cell_type": "markdown",
   "metadata": {},
   "source": [
    "### Handling the Imageability data"
   ]
  },
  {
   "cell_type": "code",
   "execution_count": 133,
   "metadata": {
    "collapsed": false,
    "scrolled": true
   },
   "outputs": [
    {
     "data": {
      "text/html": [
       "<div>\n",
       "<table border=\"1\" class=\"dataframe\">\n",
       "  <thead>\n",
       "    <tr style=\"text-align: right;\">\n",
       "      <th></th>\n",
       "      <th>Word</th>\n",
       "      <th>0</th>\n",
       "      <th>1</th>\n",
       "      <th>2</th>\n",
       "      <th>3</th>\n",
       "      <th>5</th>\n",
       "      <th>7</th>\n",
       "      <th>8</th>\n",
       "      <th>9</th>\n",
       "      <th>11</th>\n",
       "      <th>...</th>\n",
       "      <th>51</th>\n",
       "      <th>52</th>\n",
       "      <th>53</th>\n",
       "      <th>54</th>\n",
       "      <th>55</th>\n",
       "      <th>57</th>\n",
       "      <th>58</th>\n",
       "      <th>59</th>\n",
       "      <th>60</th>\n",
       "      <th>Imageability</th>\n",
       "    </tr>\n",
       "  </thead>\n",
       "  <tbody>\n",
       "    <tr>\n",
       "      <th>343</th>\n",
       "      <td>upbeat</td>\n",
       "      <td>1.0</td>\n",
       "      <td>5.0</td>\n",
       "      <td>3.0</td>\n",
       "      <td>2.0</td>\n",
       "      <td>4.0</td>\n",
       "      <td>4.0</td>\n",
       "      <td>5.0</td>\n",
       "      <td>7.0</td>\n",
       "      <td>4.0</td>\n",
       "      <td>...</td>\n",
       "      <td>5.0</td>\n",
       "      <td>5.0</td>\n",
       "      <td>5.0</td>\n",
       "      <td>2.0</td>\n",
       "      <td>4.0</td>\n",
       "      <td>3.0</td>\n",
       "      <td>6.0</td>\n",
       "      <td>2.0</td>\n",
       "      <td>6.0</td>\n",
       "      <td>3.84</td>\n",
       "    </tr>\n",
       "    <tr>\n",
       "      <th>344</th>\n",
       "      <td>recognition</td>\n",
       "      <td>3.0</td>\n",
       "      <td>5.0</td>\n",
       "      <td>2.0</td>\n",
       "      <td>3.0</td>\n",
       "      <td>4.0</td>\n",
       "      <td>3.0</td>\n",
       "      <td>1.0</td>\n",
       "      <td>7.0</td>\n",
       "      <td>3.0</td>\n",
       "      <td>...</td>\n",
       "      <td>5.0</td>\n",
       "      <td>7.0</td>\n",
       "      <td>4.0</td>\n",
       "      <td>1.0</td>\n",
       "      <td>2.0</td>\n",
       "      <td>3.0</td>\n",
       "      <td>2.0</td>\n",
       "      <td>2.0</td>\n",
       "      <td>5.0</td>\n",
       "      <td>3.36</td>\n",
       "    </tr>\n",
       "    <tr>\n",
       "      <th>345</th>\n",
       "      <td>vermin</td>\n",
       "      <td>7.0</td>\n",
       "      <td>7.0</td>\n",
       "      <td>6.0</td>\n",
       "      <td>6.0</td>\n",
       "      <td>3.0</td>\n",
       "      <td>7.0</td>\n",
       "      <td>7.0</td>\n",
       "      <td>7.0</td>\n",
       "      <td>1.0</td>\n",
       "      <td>...</td>\n",
       "      <td>6.0</td>\n",
       "      <td>7.0</td>\n",
       "      <td>4.0</td>\n",
       "      <td>4.0</td>\n",
       "      <td>3.0</td>\n",
       "      <td>5.0</td>\n",
       "      <td>5.0</td>\n",
       "      <td>5.0</td>\n",
       "      <td>7.0</td>\n",
       "      <td>4.78</td>\n",
       "    </tr>\n",
       "    <tr>\n",
       "      <th>346</th>\n",
       "      <td>waste</td>\n",
       "      <td>7.0</td>\n",
       "      <td>6.0</td>\n",
       "      <td>6.0</td>\n",
       "      <td>5.0</td>\n",
       "      <td>5.0</td>\n",
       "      <td>7.0</td>\n",
       "      <td>7.0</td>\n",
       "      <td>7.0</td>\n",
       "      <td>5.0</td>\n",
       "      <td>...</td>\n",
       "      <td>6.0</td>\n",
       "      <td>7.0</td>\n",
       "      <td>5.0</td>\n",
       "      <td>3.0</td>\n",
       "      <td>4.0</td>\n",
       "      <td>5.0</td>\n",
       "      <td>2.0</td>\n",
       "      <td>4.0</td>\n",
       "      <td>5.0</td>\n",
       "      <td>4.42</td>\n",
       "    </tr>\n",
       "    <tr>\n",
       "      <th>347</th>\n",
       "      <td>miserable</td>\n",
       "      <td>2.0</td>\n",
       "      <td>6.0</td>\n",
       "      <td>5.0</td>\n",
       "      <td>4.0</td>\n",
       "      <td>4.0</td>\n",
       "      <td>4.0</td>\n",
       "      <td>6.0</td>\n",
       "      <td>7.0</td>\n",
       "      <td>5.0</td>\n",
       "      <td>...</td>\n",
       "      <td>5.0</td>\n",
       "      <td>7.0</td>\n",
       "      <td>4.0</td>\n",
       "      <td>2.0</td>\n",
       "      <td>2.0</td>\n",
       "      <td>5.0</td>\n",
       "      <td>6.0</td>\n",
       "      <td>2.0</td>\n",
       "      <td>2.0</td>\n",
       "      <td>3.66</td>\n",
       "    </tr>\n",
       "  </tbody>\n",
       "</table>\n",
       "<p>5 rows × 52 columns</p>\n",
       "</div>"
      ],
      "text/plain": [
       "            Word    0    1    2    3    5    7    8    9   11      ...       \\\n",
       "343       upbeat  1.0  5.0  3.0  2.0  4.0  4.0  5.0  7.0  4.0      ...        \n",
       "344  recognition  3.0  5.0  2.0  3.0  4.0  3.0  1.0  7.0  3.0      ...        \n",
       "345       vermin  7.0  7.0  6.0  6.0  3.0  7.0  7.0  7.0  1.0      ...        \n",
       "346        waste  7.0  6.0  6.0  5.0  5.0  7.0  7.0  7.0  5.0      ...        \n",
       "347    miserable  2.0  6.0  5.0  4.0  4.0  4.0  6.0  7.0  5.0      ...        \n",
       "\n",
       "      51   52   53   54   55   57   58   59   60  Imageability  \n",
       "343  5.0  5.0  5.0  2.0  4.0  3.0  6.0  2.0  6.0          3.84  \n",
       "344  5.0  7.0  4.0  1.0  2.0  3.0  2.0  2.0  5.0          3.36  \n",
       "345  6.0  7.0  4.0  4.0  3.0  5.0  5.0  5.0  7.0          4.78  \n",
       "346  6.0  7.0  5.0  3.0  4.0  5.0  2.0  4.0  5.0          4.42  \n",
       "347  5.0  7.0  4.0  2.0  2.0  5.0  6.0  2.0  2.0          3.66  \n",
       "\n",
       "[5 rows x 52 columns]"
      ]
     },
     "execution_count": 133,
     "metadata": {},
     "output_type": "execute_result"
    }
   ],
   "source": [
    "df_img = pd.read_csv(path2words + 'mturk_img_ratings.csv', header = 0)\n",
    "df_img = df_img[df_img.imagability_complete == 2]\n",
    "df_img = df_img.transpose()\n",
    "df_img.reset_index(level=0, inplace=True)\n",
    "df_img_just_words = df_img[3:348] # we just care about the words for now\n",
    "df_img_just_words = df_img_just_words.apply(lambda x: pd.to_numeric(x, errors='ignore')) #Need to make all rows numeric\n",
    "df_img_just_words['Imageability'] = df_img_just_words.sum(axis=1)\n",
    "df_img_just_words['Imageability'] = df_img_just_words['Imageability'].div(50)\n",
    "df_img_just_words = df_img_just_words.rename(columns={'index': 'Word'})\n",
    "df_img_just_words.tail()"
   ]
  },
  {
   "cell_type": "markdown",
   "metadata": {},
   "source": [
    "### Generating an initial list (can skip if you have balanced_words.csv)"
   ]
  },
  {
   "cell_type": "code",
   "execution_count": 3,
   "metadata": {
    "collapsed": false
   },
   "outputs": [
    {
     "data": {
      "text/html": [
       "<div>\n",
       "<table border=\"1\" class=\"dataframe\">\n",
       "  <thead>\n",
       "    <tr style=\"text-align: right;\">\n",
       "      <th></th>\n",
       "      <th>Word</th>\n",
       "      <th>MeanValence</th>\n",
       "      <th>MeanArousal</th>\n",
       "      <th>val</th>\n",
       "      <th>letters</th>\n",
       "      <th>frequency</th>\n",
       "      <th>Concreteness</th>\n",
       "      <th>Img</th>\n",
       "      <th>pos</th>\n",
       "      <th>Unnamed: 10</th>\n",
       "      <th>Unnamed: 11</th>\n",
       "      <th>Unnamed: 12</th>\n",
       "    </tr>\n",
       "  </thead>\n",
       "  <tbody>\n",
       "    <tr>\n",
       "      <th>0</th>\n",
       "      <td>abandonment</td>\n",
       "      <td>2.63</td>\n",
       "      <td>4.95</td>\n",
       "      <td>0</td>\n",
       "      <td>11</td>\n",
       "      <td>49</td>\n",
       "      <td>2.54</td>\n",
       "      <td>3.48</td>\n",
       "      <td>noun</td>\n",
       "      <td>NaN</td>\n",
       "      <td>NaN</td>\n",
       "      <td>NaN</td>\n",
       "    </tr>\n",
       "    <tr>\n",
       "      <th>1</th>\n",
       "      <td>ache</td>\n",
       "      <td>3.27</td>\n",
       "      <td>4.30</td>\n",
       "      <td>0</td>\n",
       "      <td>4</td>\n",
       "      <td>127</td>\n",
       "      <td>3.43</td>\n",
       "      <td>443.00</td>\n",
       "      <td>noun</td>\n",
       "      <td>NaN</td>\n",
       "      <td>NaN</td>\n",
       "      <td>NaN</td>\n",
       "    </tr>\n",
       "    <tr>\n",
       "      <th>2</th>\n",
       "      <td>alone</td>\n",
       "      <td>3.85</td>\n",
       "      <td>4.00</td>\n",
       "      <td>0</td>\n",
       "      <td>5</td>\n",
       "      <td>15735</td>\n",
       "      <td>2.86</td>\n",
       "      <td>480.00</td>\n",
       "      <td>noun</td>\n",
       "      <td>NaN</td>\n",
       "      <td>NaN</td>\n",
       "      <td>NaN</td>\n",
       "    </tr>\n",
       "    <tr>\n",
       "      <th>3</th>\n",
       "      <td>angst</td>\n",
       "      <td>3.50</td>\n",
       "      <td>5.76</td>\n",
       "      <td>0</td>\n",
       "      <td>5</td>\n",
       "      <td>47</td>\n",
       "      <td>1.96</td>\n",
       "      <td>NaN</td>\n",
       "      <td>adj</td>\n",
       "      <td>NaN</td>\n",
       "      <td>NaN</td>\n",
       "      <td>NaN</td>\n",
       "    </tr>\n",
       "    <tr>\n",
       "      <th>4</th>\n",
       "      <td>annoyance</td>\n",
       "      <td>2.95</td>\n",
       "      <td>4.10</td>\n",
       "      <td>0</td>\n",
       "      <td>9</td>\n",
       "      <td>25</td>\n",
       "      <td>2.14</td>\n",
       "      <td>NaN</td>\n",
       "      <td>noun</td>\n",
       "      <td>NaN</td>\n",
       "      <td>NaN</td>\n",
       "      <td>NaN</td>\n",
       "    </tr>\n",
       "  </tbody>\n",
       "</table>\n",
       "</div>"
      ],
      "text/plain": [
       "          Word  MeanValence  MeanArousal  val  letters  frequency  \\\n",
       "0  abandonment         2.63         4.95    0       11         49   \n",
       "1         ache         3.27         4.30    0        4        127   \n",
       "2        alone         3.85         4.00    0        5      15735   \n",
       "3        angst         3.50         5.76    0        5         47   \n",
       "4    annoyance         2.95         4.10    0        9         25   \n",
       "\n",
       "   Concreteness     Img   pos Unnamed: 10  Unnamed: 11  Unnamed: 12  \n",
       "0          2.54    3.48  noun         NaN          NaN          NaN  \n",
       "1          3.43  443.00  noun         NaN          NaN          NaN  \n",
       "2          2.86  480.00  noun         NaN          NaN          NaN  \n",
       "3          1.96     NaN   adj         NaN          NaN          NaN  \n",
       "4          2.14     NaN  noun         NaN          NaN          NaN  "
      ]
     },
     "execution_count": 3,
     "metadata": {},
     "output_type": "execute_result"
    }
   ],
   "source": [
    "df = pd.read_csv(path2words + 'WordsListF.csv')\n",
    "del df['Unnamed: 0']\n",
    "del df['ValenceStand']\n",
    "df.head()"
   ]
  },
  {
   "cell_type": "code",
   "execution_count": 7,
   "metadata": {
    "collapsed": false,
    "scrolled": true
   },
   "outputs": [],
   "source": [
    "df = df.merge(df_img_just_words, how = 'outer')\n",
    "df = df[['Word', 'MeanValence', 'MeanArousal', 'val', 'letters', 'frequency', 'Concreteness', 'pos', 'Imageability']]\n",
    "df = df.drop_duplicates('Word') # we had a few repeats\n",
    "df = df[pd.notnull(df['Imageability'])]# we didn't include \"focus\" in the MTurk study, so img is blank\n",
    "df = df[pd.notnull(df['val'])]\n",
    "df = df[df.Word != 'bummer']\n",
    "df = df[df.Word != 'clingy']\n",
    "df = df[df.Word != 'comatose']\n",
    "df = df[df.Word != 'deadbeat']\n",
    "df = df[df.Word != 'faker']\n",
    "df = df[df.Word != 'hag']\n",
    "df = df[df.Word != 'lowlife']\n",
    "df = df[df.Word != 'mousy']\n",
    "df = df[df.Word != 'scumbag']\n",
    "df = df[df.Word != 'sleaze']\n",
    "df = df[df.Word != 'wannabe']\n",
    "df = df[df.Word != 'kisser']\n",
    "df = df[df.Word != 'longevity']\n",
    "df = df[df.Word != 'pizzazz']\n",
    "df = df[df.Word != 'upbeat']\n",
    "df = df[df.Word != 'angst']\n",
    "df = df[df.Word != 'nutcase']\n",
    "df = df[df.Word != 'newlywed'] # the LSA thing doesn't know these words...there's prob an easier way to do this...\n",
    "df.to_csv('WordsF.csv')"
   ]
  },
  {
   "cell_type": "code",
   "execution_count": 4,
   "metadata": {
    "collapsed": false
   },
   "outputs": [],
   "source": [
    "#gets two new random lists\n",
    "def getnewneglist():\n",
    "    sampled_dfneg = dfneg.sample(100)\n",
    "    return sampled_dfneg\n",
    "\n",
    "# creating a random sample of 100 positive words\n",
    "def getnewposlist():\n",
    "    sampled_dfpos = dfpos.sample(100)\n",
    "    return sampled_dfpos\n"
   ]
  },
  {
   "cell_type": "code",
   "execution_count": 5,
   "metadata": {
    "collapsed": false,
    "scrolled": true
   },
   "outputs": [],
   "source": [
    "# checks the ttest for the new lists given a column name\n",
    "def checknewsig(column_name):\n",
    "    return ttest_ind(b[column_name], a[column_name])"
   ]
  },
  {
   "cell_type": "code",
   "execution_count": 6,
   "metadata": {
    "collapsed": false
   },
   "outputs": [],
   "source": [
    "# makes a df with the p's and t's of the words\n",
    "def makepdf():\n",
    "    pchart = pd.DataFrame({'p':[checknewsig('letters').pvalue, \n",
    "                                   checknewsig('mean_arousal').pvalue, \n",
    "                                  checknewsig('frequency').pvalue, \n",
    "                                   checknewsig('concreteness').pvalue,\n",
    "                                   checknewsig('imageability').pvalue,\n",
    "                           ],\n",
    "                          't':[checknewsig('letters').statistic, \n",
    "                                   checknewsig('mean_arousal').statistic, \n",
    "                                  checknewsig('frequency').statistic, \n",
    "                                   checknewsig('concreteness').statistic,\n",
    "                                  checknewsig('imageability').statistic, \n",
    "                          ]},\n",
    "                       index=['letters', 'mean_arousal', 'frequency','concreteness', 'imageability'])\n",
    "    return pchart\n",
    "    "
   ]
  },
  {
   "cell_type": "code",
   "execution_count": 7,
   "metadata": {
    "collapsed": false
   },
   "outputs": [],
   "source": [
    "# checks the given series to see if columns are > .05\n",
    "def checkpdf(x):\n",
    "    return x.loc['frequency', 'p'] > .05 and x.loc['MeanArousal','p'] > .05 and x.loc['letters','p'] > .05 and x.loc['Imageability','p'] > .001 and x.loc['Concreteness','p'] > .05\n",
    "    "
   ]
  },
  {
   "cell_type": "code",
   "execution_count": 8,
   "metadata": {
    "collapsed": false
   },
   "outputs": [],
   "source": [
    "# not using this anymore but keep for reference\n",
    "def main():\n",
    "    a = getnewneglist()\n",
    "    b = getnewposlist()\n",
    "    if checkpdf(makepdf()) == True:\n",
    "        makepdf().to_csv('p_values.csv')\n",
    "        a.append(b).to_csv('balanced_words.csv')\n",
    "    else:\n",
    "        return main()"
   ]
  },
  {
   "cell_type": "code",
   "execution_count": 1223,
   "metadata": {
    "collapsed": true
   },
   "outputs": [],
   "source": [
    "main()"
   ]
  },
  {
   "cell_type": "markdown",
   "metadata": {},
   "source": [
    "### Checking balanced_words.csv"
   ]
  },
  {
   "cell_type": "code",
   "execution_count": 200,
   "metadata": {
    "collapsed": false,
    "scrolled": false
   },
   "outputs": [
    {
     "name": "stdout",
     "output_type": "stream",
     "text": [
      "Negative Words:\n",
      "mean_valence      2.7665\n",
      "mean_arousal      4.7315\n",
      "valence           0.0000\n",
      "letters           7.3000\n",
      "frequency       863.6300\n",
      "concreteness      2.5987\n",
      "imageability      3.5094\n",
      "dtype: float64\n",
      "--------------------\n",
      "Positive Words:\n",
      "mean_valence       7.2131\n",
      "mean_arousal       4.6198\n",
      "valence            1.0000\n",
      "letters            7.4500\n",
      "frequency       1311.9700\n",
      "concreteness       2.4290\n",
      "imageability       3.6588\n",
      "dtype: float64\n"
     ]
    }
   ],
   "source": [
    "ab = pd.read_csv(path2words + '/PsychoPy/balanced_words.csv')\n",
    "a = ab[ab.valence == 0]\n",
    "b = ab[ab.valence == 1]\n",
    "print ('Negative Words:')\n",
    "print (a.mean()) \n",
    "print ('--------------------')\n",
    "print ('Positive Words:')\n",
    "print (b.mean())"
   ]
  },
  {
   "cell_type": "code",
   "execution_count": 201,
   "metadata": {
    "collapsed": false
   },
   "outputs": [
    {
     "data": {
      "text/plain": [
       "valence  part_of_speech\n",
       "0        adj               39\n",
       "         noun              61\n",
       "1        adj               48\n",
       "         noun              52\n",
       "Name: word, dtype: int64"
      ]
     },
     "execution_count": 201,
     "metadata": {},
     "output_type": "execute_result"
    }
   ],
   "source": [
    "ab.groupby(['valence','part_of_speech']).word.count()"
   ]
  },
  {
   "cell_type": "code",
   "execution_count": 202,
   "metadata": {
    "collapsed": false,
    "scrolled": false
   },
   "outputs": [
    {
     "data": {
      "text/html": [
       "<div>\n",
       "<table border=\"1\" class=\"dataframe\">\n",
       "  <thead>\n",
       "    <tr style=\"text-align: right;\">\n",
       "      <th></th>\n",
       "      <th>p</th>\n",
       "      <th>t</th>\n",
       "    </tr>\n",
       "  </thead>\n",
       "  <tbody>\n",
       "    <tr>\n",
       "      <th>letters</th>\n",
       "      <td>0.639432</td>\n",
       "      <td>0.469215</td>\n",
       "    </tr>\n",
       "    <tr>\n",
       "      <th>mean_arousal</th>\n",
       "      <td>0.373559</td>\n",
       "      <td>-0.891844</td>\n",
       "    </tr>\n",
       "    <tr>\n",
       "      <th>frequency</th>\n",
       "      <td>0.231280</td>\n",
       "      <td>1.200758</td>\n",
       "    </tr>\n",
       "    <tr>\n",
       "      <th>concreteness</th>\n",
       "      <td>0.096863</td>\n",
       "      <td>-1.668166</td>\n",
       "    </tr>\n",
       "    <tr>\n",
       "      <th>imageability</th>\n",
       "      <td>0.114059</td>\n",
       "      <td>1.587216</td>\n",
       "    </tr>\n",
       "  </tbody>\n",
       "</table>\n",
       "</div>"
      ],
      "text/plain": [
       "                     p         t\n",
       "letters       0.639432  0.469215\n",
       "mean_arousal  0.373559 -0.891844\n",
       "frequency     0.231280  1.200758\n",
       "concreteness  0.096863 -1.668166\n",
       "imageability  0.114059  1.587216"
      ]
     },
     "execution_count": 202,
     "metadata": {},
     "output_type": "execute_result"
    }
   ],
   "source": [
    "makepdf()"
   ]
  },
  {
   "cell_type": "code",
   "execution_count": 203,
   "metadata": {
    "collapsed": false,
    "scrolled": true
   },
   "outputs": [
    {
     "data": {
      "image/png": "[encoded data removed]",
      "text/plain": [
       "<matplotlib.figure.Figure at 0x11b3ac0b8>"
      ]
     },
     "metadata": {},
     "output_type": "display_data"
    }
   ],
   "source": [
    "# from Dan's notebook\n",
    "ab['valence'] = ab['valence'].replace(to_replace=[0,1],value=['negative','positive'])\n",
    "f = plt.figure()\n",
    "ct = 1\n",
    "ab.imageability = pd.to_numeric(ab.imageability)\n",
    "for val in ['mean_valence','mean_arousal','letters','frequency','concreteness','imageability']:\n",
    "    cumval = 230 + ct\n",
    "    ax = f.add_subplot(cumval)\n",
    "    sns.boxplot(y=val,x='valence',data=ab)\n",
    "    ct = ct + 1\n",
    "f.tight_layout()"
   ]
  },
  {
   "cell_type": "code",
   "execution_count": 204,
   "metadata": {
    "collapsed": false
   },
   "outputs": [
    {
     "name": "stdout",
     "output_type": "stream",
     "text": [
      "200\n",
      "200\n"
     ]
    }
   ],
   "source": [
    "#any duplicates?\n",
    "print (ab.word.count())\n",
    "ab.drop_duplicates('word')\n",
    "print (ab.word.count())"
   ]
  },
  {
   "cell_type": "code",
   "execution_count": 205,
   "metadata": {
    "collapsed": false,
    "scrolled": true
   },
   "outputs": [
    {
     "name": "stdout",
     "output_type": "stream",
     "text": [
      "0 ['turnoff']\n",
      "1 ['pest']\n",
      "2 ['loser']\n",
      "3 ['captive', 'capable']\n",
      "4 ['worthless']\n",
      "5 ['cynic']\n",
      "6 ['traitor', 'traveler']\n",
      "7 ['distress', 'disappointment', 'disaster', 'disgrace', 'disgusting']\n",
      "8 ['jerk']\n",
      "9 ['selfish']\n",
      "10 ['bastard']\n",
      "11 ['distress', 'disappointment', 'disaster', 'disgrace', 'disgusting']\n",
      "12 ['insulting', 'insecure']\n",
      "13 ['unwanted', 'unwelcome']\n",
      "14 ['gloom']\n",
      "15 ['filth']\n",
      "16 ['dull']\n",
      "17 ['lazy']\n",
      "18 ['failure']\n",
      "19 ['untrustworthy']\n",
      "20 ['victim']\n",
      "21 ['unsuccessful']\n",
      "22 ['terrible', 'terrified']\n",
      "23 ['pain']\n",
      "24 ['alone']\n",
      "25 ['inadequate']\n",
      "26 ['regret']\n",
      "27 ['bitterness']\n",
      "28 ['mess']\n",
      "29 ['irritating', 'irresponsible']\n",
      "30 ['garbage']\n",
      "31 ['annoying']\n",
      "32 ['irritating', 'irresponsible']\n",
      "33 ['stinky']\n",
      "34 ['unwanted', 'unwelcome']\n",
      "35 ['phony']\n",
      "36 ['degenerate']\n",
      "37 ['heartbroken', 'headache', 'healthy']\n",
      "38 ['reject']\n",
      "39 ['hesitation']\n",
      "40 ['sad']\n",
      "41 ['insulting', 'insecure']\n",
      "42 ['awkward']\n",
      "43 ['hypocrite']\n",
      "44 ['shame']\n",
      "45 ['anxiety']\n",
      "46 ['distress', 'disappointment', 'disaster', 'disgrace', 'disgusting']\n",
      "47 ['dropout']\n",
      "48 ['distress', 'disappointment', 'disaster', 'disgrace', 'disgusting']\n",
      "49 ['scoundrel']\n",
      "50 ['grumpy']\n",
      "51 ['hardship']\n",
      "52 ['sloppy', 'slob']\n",
      "53 ['creep', 'creative']\n",
      "54 ['defect']\n",
      "55 ['slimy']\n",
      "56 ['embarrassed']\n",
      "57 ['overwhelmed']\n",
      "58 ['fraud']\n",
      "59 ['vermin']\n",
      "60 ['unforgivable', 'unfaithful']\n",
      "61 ['quitter']\n",
      "62 ['undesirable']\n",
      "63 ['burden']\n",
      "64 ['repulsive']\n",
      "65 ['sloppy', 'slob']\n",
      "66 ['uninvited', 'unity', 'unique']\n",
      "67 ['menace', 'mentor']\n",
      "68 ['unemployed']\n",
      "69 ['peril', 'perfect']\n",
      "70 ['liar']\n",
      "71 ['terrible', 'terrified']\n",
      "72 ['vagrant']\n",
      "73 ['unreliable']\n",
      "74 ['emptiness']\n",
      "75 ['distress', 'disappointment', 'disaster', 'disgrace', 'disgusting']\n",
      "76 ['outcast']\n",
      "77 ['gross']\n",
      "78 ['negligent']\n",
      "79 ['nauseous']\n",
      "80 ['parasite', 'partner']\n",
      "81 ['hater']\n",
      "82 ['unforgivable', 'unfaithful']\n",
      "83 ['incompetent']\n",
      "84 ['unbearable']\n",
      "85 ['boring']\n",
      "86 ['inferior']\n",
      "87 ['rude']\n",
      "88 ['heartbroken', 'headache', 'healthy']\n",
      "89 ['copycat']\n",
      "90 ['tense']\n",
      "91 ['waste']\n",
      "92 ['idiot']\n",
      "93 ['fool']\n",
      "94 ['lunatic']\n",
      "95 ['miserable']\n",
      "96 ['pity']\n",
      "97 ['coward']\n",
      "98 ['immoral']\n",
      "99 ['dummy']\n",
      "100 ['entertainer', 'enthusiastic']\n",
      "101 ['achievement']\n",
      "102 ['menace', 'mentor']\n",
      "103 ['uninvited', 'unity', 'unique']\n",
      "104 ['smiley']\n",
      "105 ['merit', 'mercy']\n",
      "106 ['seeker']\n",
      "107 ['esteem']\n",
      "108 ['wealth']\n",
      "109 ['proficiency', 'progress', 'productive']\n",
      "110 ['bravery']\n",
      "111 ['lovable']\n",
      "112 ['goodwill']\n",
      "113 ['thinker']\n",
      "114 ['special', 'spectacular']\n",
      "115 ['charm', 'charitable', 'champ']\n",
      "116 ['carefree']\n",
      "117 ['charm', 'charitable', 'champ']\n",
      "118 ['witty']\n",
      "119 ['traitor', 'traveler']\n",
      "120 ['entertainer', 'enthusiastic']\n",
      "121 ['ambition']\n",
      "122 ['parasite', 'partner']\n",
      "123 ['dependable']\n",
      "124 ['safe']\n",
      "125 ['excited', 'excellence']\n",
      "126 ['cleverness']\n",
      "127 ['charm', 'charitable', 'champ']\n",
      "128 ['sophistication']\n",
      "129 ['smart']\n",
      "130 ['friend']\n",
      "131 ['romantic']\n",
      "132 ['relaxed']\n",
      "133 ['spirited']\n",
      "134 ['idealist']\n",
      "135 ['volunteer']\n",
      "136 ['respectful']\n",
      "137 ['hopeful']\n",
      "138 ['allure']\n",
      "139 ['proficiency', 'progress', 'productive']\n",
      "140 ['gentle']\n",
      "141 ['prize']\n",
      "142 ['dreamer']\n",
      "143 ['companion', 'comfortable', 'commitment']\n",
      "144 ['excited', 'excellence']\n",
      "145 ['affectionate']\n",
      "146 ['wellness']\n",
      "147 ['admired']\n",
      "148 ['heartbroken', 'headache', 'healthy']\n",
      "149 ['humorous']\n",
      "150 ['energetic']\n",
      "151 ['attractive']\n",
      "152 ['special', 'spectacular']\n",
      "153 ['talented']\n",
      "154 ['uninvited', 'unity', 'unique']\n",
      "155 ['satisfied']\n",
      "156 ['value']\n",
      "157 ['devoted']\n",
      "158 ['expert']\n",
      "159 ['pleased']\n",
      "160 ['hugger']\n",
      "161 ['tolerance']\n",
      "162 ['learner']\n",
      "163 ['buff']\n",
      "164 ['easygoing']\n",
      "165 ['companion', 'comfortable', 'commitment']\n",
      "166 ['fun']\n",
      "167 ['captive', 'capable']\n",
      "168 ['honest']\n",
      "169 ['athlete']\n",
      "170 ['blissful']\n",
      "171 ['happy']\n",
      "172 ['graceful']\n",
      "173 ['zest']\n",
      "174 ['lucky']\n",
      "175 ['winner']\n",
      "176 ['wise']\n",
      "177 ['spontaneity']\n",
      "178 ['helper']\n",
      "179 ['adventurer']\n",
      "180 ['jolly']\n",
      "181 ['useful']\n",
      "182 ['peaceful']\n",
      "183 ['appeal']\n",
      "184 ['academic']\n",
      "185 ['visionary']\n",
      "186 ['optimist']\n",
      "187 ['creep', 'creative']\n",
      "188 ['proficiency', 'progress', 'productive']\n",
      "189 ['passion']\n",
      "190 ['merit', 'mercy']\n",
      "191 ['enjoyable']\n",
      "192 ['companion', 'comfortable', 'commitment']\n",
      "193 ['skilled']\n",
      "194 ['confident']\n",
      "195 ['delight']\n",
      "196 ['radiant']\n",
      "197 ['asset']\n",
      "198 ['peril', 'perfect']\n",
      "199 ['vibrant']\n"
     ]
    }
   ],
   "source": [
    "for i, row_i in ab.iterrows():\n",
    "    stem = row_i.word[:3]\n",
    "    matches = list(filter(lambda x: row_i.word[:3] in x[:3], ab.word))\n",
    "    print (i, matches)"
   ]
  },
  {
   "cell_type": "markdown",
   "metadata": {},
   "source": [
    "### Looking at LSA\n",
    "\n",
    "http://lsa.colorado.edu/  \n",
    "To get the csvs, c&p the negative and positive words seperately into the matrix comparison, then c&p the results into excel. "
   ]
  },
  {
   "cell_type": "code",
   "execution_count": 196,
   "metadata": {
    "collapsed": false,
    "scrolled": true
   },
   "outputs": [],
   "source": [
    "# add the negative LSA csv\n",
    "lsa = pd.read_csv(path2words + 'option8_lsa_neg_WORKING.csv')\n",
    "neg = lsa\n",
    "values = lsa[lsa['Document']].values\n",
    "lower_triangular = values[np.tril_indices(values.shape[0], -1)]\n",
    "lsa = pd.DataFrame({'Neg': lower_triangular})"
   ]
  },
  {
   "cell_type": "code",
   "execution_count": 197,
   "metadata": {
    "collapsed": false
   },
   "outputs": [
    {
     "data": {
      "text/plain": [
       "Neg    4950\n",
       "Pos    4950\n",
       "dtype: int64"
      ]
     },
     "execution_count": 197,
     "metadata": {},
     "output_type": "execute_result"
    }
   ],
   "source": [
    "# add the positive LSA csv\n",
    "pos = pd.read_csv(path2words + 'option8_lsa_pos_WORKING.csv')\n",
    "values = pos[pos['Document']].values\n",
    "lower_triangular = values[np.tril_indices(values.shape[0], -1)]\n",
    "lsa['Pos'] = lower_triangular\n",
    "lsa.count()"
   ]
  },
  {
   "cell_type": "code",
   "execution_count": 198,
   "metadata": {
    "collapsed": false,
    "scrolled": true
   },
   "outputs": [
    {
     "data": {
      "text/html": [
       "<div>\n",
       "<table border=\"1\" class=\"dataframe\">\n",
       "  <thead>\n",
       "    <tr style=\"text-align: right;\">\n",
       "      <th></th>\n",
       "      <th>Neg</th>\n",
       "      <th>Pos</th>\n",
       "    </tr>\n",
       "  </thead>\n",
       "  <tbody>\n",
       "    <tr>\n",
       "      <th>count</th>\n",
       "      <td>4950.000000</td>\n",
       "      <td>4950.000000</td>\n",
       "    </tr>\n",
       "    <tr>\n",
       "      <th>mean</th>\n",
       "      <td>0.120535</td>\n",
       "      <td>0.123428</td>\n",
       "    </tr>\n",
       "    <tr>\n",
       "      <th>std</th>\n",
       "      <td>0.104867</td>\n",
       "      <td>0.103781</td>\n",
       "    </tr>\n",
       "    <tr>\n",
       "      <th>min</th>\n",
       "      <td>-0.100000</td>\n",
       "      <td>-0.120000</td>\n",
       "    </tr>\n",
       "    <tr>\n",
       "      <th>25%</th>\n",
       "      <td>0.040000</td>\n",
       "      <td>0.050000</td>\n",
       "    </tr>\n",
       "    <tr>\n",
       "      <th>50%</th>\n",
       "      <td>0.100000</td>\n",
       "      <td>0.100000</td>\n",
       "    </tr>\n",
       "    <tr>\n",
       "      <th>75%</th>\n",
       "      <td>0.180000</td>\n",
       "      <td>0.180000</td>\n",
       "    </tr>\n",
       "    <tr>\n",
       "      <th>max</th>\n",
       "      <td>0.690000</td>\n",
       "      <td>0.760000</td>\n",
       "    </tr>\n",
       "  </tbody>\n",
       "</table>\n",
       "</div>"
      ],
      "text/plain": [
       "               Neg          Pos\n",
       "count  4950.000000  4950.000000\n",
       "mean      0.120535     0.123428\n",
       "std       0.104867     0.103781\n",
       "min      -0.100000    -0.120000\n",
       "25%       0.040000     0.050000\n",
       "50%       0.100000     0.100000\n",
       "75%       0.180000     0.180000\n",
       "max       0.690000     0.760000"
      ]
     },
     "execution_count": 198,
     "metadata": {},
     "output_type": "execute_result"
    }
   ],
   "source": [
    "# some descriptives\n",
    "lsa.describe()"
   ]
  },
  {
   "cell_type": "code",
   "execution_count": 199,
   "metadata": {
    "collapsed": false
   },
   "outputs": [
    {
     "data": {
      "text/plain": [
       "Ttest_indResult(statistic=-1.3795455654782742, pvalue=0.16775777230188826)"
      ]
     },
     "execution_count": 199,
     "metadata": {},
     "output_type": "execute_result"
    }
   ],
   "source": [
    "ttest_ind(lsa['Neg'], lsa['Pos']) # are they different?"
   ]
  },
  {
   "cell_type": "code",
   "execution_count": null,
   "metadata": {
    "collapsed": true
   },
   "outputs": [],
   "source": []
  }
 ],
 "metadata": {
  "anaconda-cloud": {},
  "kernelspec": {
   "display_name": "Python 3",
   "language": "python",
   "name": "python3"
  },
  "language_info": {
   "codemirror_mode": {
    "name": "ipython",
    "version": 3
   },
   "file_extension": ".py",
   "mimetype": "text/x-python",
   "name": "python",
   "nbconvert_exporter": "python",
   "pygments_lexer": "ipython3",
   "version": "3.6.0"
  }
 },
 "nbformat": 4,
 "nbformat_minor": 1
}
